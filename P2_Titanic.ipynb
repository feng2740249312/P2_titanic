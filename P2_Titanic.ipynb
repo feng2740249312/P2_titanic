{
 "cells": [
  {
   "cell_type": "markdown",
   "metadata": {},
   "source": [
    "# P2: 泰坦尼克号数据集探索"
   ]
  },
  {
   "cell_type": "markdown",
   "metadata": {},
   "source": [
    "## 1. 数据集简介"
   ]
  },
  {
   "cell_type": "markdown",
   "metadata": {},
   "source": [
    "本数据集包括泰坦尼克号上 2224 名乘客和船员中 891 名的人口学数据和乘客基本信息。以下说明参考了[Kaggle](https://www.kaggle.com/c/titanic/data)网站\n",
    "\n",
    "+ Survived: 生存否 0=No, 1=Yes\n",
    "+ Pclass: 乘客舱位等级(头等舱、二等舱、三等舱) 1=1st, 2=2nd, 3=3rd\n",
    "+ Name: 姓名\n",
    "+ Sex: 性别\n",
    "+ Age: 年龄\n",
    "+ SibSp: 船上的 兄弟姐妹／配偶 人数\n",
    "+ Parch: 船上的 父母／子女 人数\n",
    "+ Ticket: 船票编号\n",
    "+ Fare: 票价\n",
    "+ Cabin: 客舱编号\n",
    "+ Embarked: 登船地点 C=Cherbourg Q=Queenstown S=Southampton"
   ]
  },
  {
   "cell_type": "code",
   "execution_count": 179,
   "metadata": {
    "collapsed": false
   },
   "outputs": [
    {
     "name": "stdout",
     "output_type": "stream",
     "text": [
      "Populating the interactive namespace from numpy and matplotlib\n"
     ]
    },
    {
     "data": {
      "text/html": [
       "<div>\n",
       "<table border=\"1\" class=\"dataframe\">\n",
       "  <thead>\n",
       "    <tr style=\"text-align: right;\">\n",
       "      <th></th>\n",
       "      <th>PassengerId</th>\n",
       "      <th>Survived</th>\n",
       "      <th>Pclass</th>\n",
       "      <th>Name</th>\n",
       "      <th>Sex</th>\n",
       "      <th>Age</th>\n",
       "      <th>SibSp</th>\n",
       "      <th>Parch</th>\n",
       "      <th>Ticket</th>\n",
       "      <th>Fare</th>\n",
       "      <th>Cabin</th>\n",
       "      <th>Embarked</th>\n",
       "    </tr>\n",
       "  </thead>\n",
       "  <tbody>\n",
       "    <tr>\n",
       "      <th>0</th>\n",
       "      <td>1</td>\n",
       "      <td>0</td>\n",
       "      <td>3</td>\n",
       "      <td>Braund, Mr. Owen Harris</td>\n",
       "      <td>male</td>\n",
       "      <td>22.0</td>\n",
       "      <td>1</td>\n",
       "      <td>0</td>\n",
       "      <td>A/5 21171</td>\n",
       "      <td>7.2500</td>\n",
       "      <td>NaN</td>\n",
       "      <td>S</td>\n",
       "    </tr>\n",
       "    <tr>\n",
       "      <th>1</th>\n",
       "      <td>2</td>\n",
       "      <td>1</td>\n",
       "      <td>1</td>\n",
       "      <td>Cumings, Mrs. John Bradley (Florence Briggs Th...</td>\n",
       "      <td>female</td>\n",
       "      <td>38.0</td>\n",
       "      <td>1</td>\n",
       "      <td>0</td>\n",
       "      <td>PC 17599</td>\n",
       "      <td>71.2833</td>\n",
       "      <td>C85</td>\n",
       "      <td>C</td>\n",
       "    </tr>\n",
       "    <tr>\n",
       "      <th>2</th>\n",
       "      <td>3</td>\n",
       "      <td>1</td>\n",
       "      <td>3</td>\n",
       "      <td>Heikkinen, Miss. Laina</td>\n",
       "      <td>female</td>\n",
       "      <td>26.0</td>\n",
       "      <td>0</td>\n",
       "      <td>0</td>\n",
       "      <td>STON/O2. 3101282</td>\n",
       "      <td>7.9250</td>\n",
       "      <td>NaN</td>\n",
       "      <td>S</td>\n",
       "    </tr>\n",
       "    <tr>\n",
       "      <th>3</th>\n",
       "      <td>4</td>\n",
       "      <td>1</td>\n",
       "      <td>1</td>\n",
       "      <td>Futrelle, Mrs. Jacques Heath (Lily May Peel)</td>\n",
       "      <td>female</td>\n",
       "      <td>35.0</td>\n",
       "      <td>1</td>\n",
       "      <td>0</td>\n",
       "      <td>113803</td>\n",
       "      <td>53.1000</td>\n",
       "      <td>C123</td>\n",
       "      <td>S</td>\n",
       "    </tr>\n",
       "    <tr>\n",
       "      <th>4</th>\n",
       "      <td>5</td>\n",
       "      <td>0</td>\n",
       "      <td>3</td>\n",
       "      <td>Allen, Mr. William Henry</td>\n",
       "      <td>male</td>\n",
       "      <td>35.0</td>\n",
       "      <td>0</td>\n",
       "      <td>0</td>\n",
       "      <td>373450</td>\n",
       "      <td>8.0500</td>\n",
       "      <td>NaN</td>\n",
       "      <td>S</td>\n",
       "    </tr>\n",
       "  </tbody>\n",
       "</table>\n",
       "</div>"
      ],
      "text/plain": [
       "   PassengerId  Survived  Pclass  \\\n",
       "0            1         0       3   \n",
       "1            2         1       1   \n",
       "2            3         1       3   \n",
       "3            4         1       1   \n",
       "4            5         0       3   \n",
       "\n",
       "                                                Name     Sex   Age  SibSp  \\\n",
       "0                            Braund, Mr. Owen Harris    male  22.0      1   \n",
       "1  Cumings, Mrs. John Bradley (Florence Briggs Th...  female  38.0      1   \n",
       "2                             Heikkinen, Miss. Laina  female  26.0      0   \n",
       "3       Futrelle, Mrs. Jacques Heath (Lily May Peel)  female  35.0      1   \n",
       "4                           Allen, Mr. William Henry    male  35.0      0   \n",
       "\n",
       "   Parch            Ticket     Fare Cabin Embarked  \n",
       "0      0         A/5 21171   7.2500   NaN        S  \n",
       "1      0          PC 17599  71.2833   C85        C  \n",
       "2      0  STON/O2. 3101282   7.9250   NaN        S  \n",
       "3      0            113803  53.1000  C123        S  \n",
       "4      0            373450   8.0500   NaN        S  "
      ]
     },
     "execution_count": 179,
     "metadata": {},
     "output_type": "execute_result"
    }
   ],
   "source": [
    "import numpy as np\n",
    "import pandas as pd\n",
    "import matplotlib.pyplot as plt\n",
    "import seaborn as sns\n",
    "\n",
    "%pylab inline\n",
    "\n",
    "df = pd.read_csv(\"titanic_data.csv\",index_col = False)\n",
    "df.head()"
   ]
  },
  {
   "cell_type": "markdown",
   "metadata": {},
   "source": [
    "## 2. 问题"
   ]
  },
  {
   "cell_type": "markdown",
   "metadata": {},
   "source": [
    "### 2.1 船上乘客的单个变量如何分布（1d）\n",
    "\n",
    "+ 性别如何分布\n",
    "+ 舱位如何分布"
   ]
  },
  {
   "cell_type": "markdown",
   "metadata": {},
   "source": [
    "### 2.2 有哪些因素会让船上的人生还率更高？(2d)\n",
    "\n",
    "问题中的因变量是生还率，定义为样本的生还人数／样本的总人数。由定义可知，生还率实际是样本内生还人数的均值。\n",
    "\n",
    "自变量是影响生还率的因素，可能包括\n",
    "\n",
    "+ 性别\n",
    "+ 阶层（舱位等级）\n",
    "+ 年龄\n",
    "+ 亲情（船上的亲人数量）\n",
    "+ 财力 (票价)\n",
    "+ 船上位置（客舱）\n",
    "+ 群体（登船地点）\n",
    "..."
   ]
  },
  {
   "cell_type": "markdown",
   "metadata": {},
   "source": [
    "## 3. 探索数据集: 单变量调查"
   ]
  },
  {
   "cell_type": "markdown",
   "metadata": {},
   "source": [
    "总体是2224名乘客，样本是有数据的891名乘客。"
   ]
  },
  {
   "cell_type": "markdown",
   "metadata": {},
   "source": [
    "### 3.1 性别分布"
   ]
  },
  {
   "cell_type": "code",
   "execution_count": 180,
   "metadata": {
    "collapsed": true
   },
   "outputs": [],
   "source": [
    "def feq_overview(df,column_name):\n",
    "    feq = df[[column_name]].groupby(df[column_name]).count()/ 891\n",
    "    print feq\n",
    "    return feq"
   ]
  },
  {
   "cell_type": "code",
   "execution_count": 181,
   "metadata": {
    "collapsed": false
   },
   "outputs": [
    {
     "name": "stdout",
     "output_type": "stream",
     "text": [
      "             Sex\n",
      "Sex             \n",
      "female  0.352413\n",
      "male    0.647587\n"
     ]
    }
   ],
   "source": [
    "sex_feq = feq_overview(df,'Sex')"
   ]
  },
  {
   "cell_type": "markdown",
   "metadata": {},
   "source": [
    "乘客中女性占35%，男性占65%。"
   ]
  },
  {
   "cell_type": "markdown",
   "metadata": {},
   "source": [
    "### 3.2 舱位分布"
   ]
  },
  {
   "cell_type": "code",
   "execution_count": 182,
   "metadata": {
    "collapsed": false
   },
   "outputs": [
    {
     "name": "stdout",
     "output_type": "stream",
     "text": [
      "          Pclass\n",
      "Pclass          \n",
      "1       0.242424\n",
      "2       0.206510\n",
      "3       0.551066\n"
     ]
    }
   ],
   "source": [
    "pclass_feq = feq_overview(df,'Pclass')"
   ]
  },
  {
   "cell_type": "markdown",
   "metadata": {},
   "source": [
    "乘客里有24%在一等舱，21%在二等舱，55%在三等舱"
   ]
  },
  {
   "cell_type": "markdown",
   "metadata": {},
   "source": [
    "## 4. 探索数据集:  多变量调查"
   ]
  },
  {
   "cell_type": "markdown",
   "metadata": {},
   "source": [
    "### 4.1 性别和生还率的关系"
   ]
  },
  {
   "cell_type": "markdown",
   "metadata": {},
   "source": [
    "#### 4.1.1 描述统计量"
   ]
  },
  {
   "cell_type": "markdown",
   "metadata": {},
   "source": [
    "从原始数据集中提取性别和生还人数，按照性别进行分组统计。"
   ]
  },
  {
   "cell_type": "code",
   "execution_count": 183,
   "metadata": {
    "collapsed": true
   },
   "outputs": [],
   "source": [
    "def group_overview(df,group_name):\n",
    "    group_df = df[['Survived']].groupby(df[group_name])\n",
    "    print \"****** Count ******\"\n",
    "    print group_df.count()\n",
    "    print \"****** Mean ******\"\n",
    "    print group_df.mean()\n",
    "    print \"****** Standard Deviation ******\"\n",
    "    print group_df.std()\n",
    "    print \"****** Variance ******\"\n",
    "    print group_df.var()\n",
    "    return group_df"
   ]
  },
  {
   "cell_type": "code",
   "execution_count": 184,
   "metadata": {
    "collapsed": false
   },
   "outputs": [
    {
     "name": "stdout",
     "output_type": "stream",
     "text": [
      "****** Count ******\n",
      "        Survived\n",
      "Sex             \n",
      "female       314\n",
      "male         577\n",
      "****** Mean ******\n",
      "        Survived\n",
      "Sex             \n",
      "female  0.742038\n",
      "male    0.188908\n",
      "****** Standard Deviation ******\n",
      "        Survived\n",
      "Sex             \n",
      "female  0.438211\n",
      "male    0.391775\n",
      "****** Variance ******\n",
      "        Survived\n",
      "Sex             \n",
      "female  0.192029\n",
      "male    0.153488\n"
     ]
    }
   ],
   "source": [
    "sex_group = group_overview(df,'Sex')"
   ]
  },
  {
   "cell_type": "markdown",
   "metadata": {},
   "source": [
    "样本891人\n",
    "+ 女性314人，生还率均值0.74，标准偏差0.44，方差0.19\n",
    "+ 男性577人，生还率均值0.19，标准偏差0.39，方差0.15"
   ]
  },
  {
   "cell_type": "markdown",
   "metadata": {},
   "source": [
    "#### 4.1.2 推断统计量"
   ]
  },
  {
   "cell_type": "markdown",
   "metadata": {},
   "source": [
    "零假设：女性生还率不高于男性生还率\n",
    "\n",
    "$$ H_0: \\mu_f \\leq \\mu_m $$\n",
    "\n",
    "对立假设：女性生还率高于男性生还率\n",
    "\n",
    "$$ H_a: \\mu_f > \\mu_m $$\n",
    "\n",
    "独立样本t检验。根据假设，单尾检验，正方向。\n",
    "\n",
    "$$ \\alpha = 0.001 $$"
   ]
  },
  {
   "cell_type": "markdown",
   "metadata": {},
   "source": [
    "描述统计量\n",
    "\n",
    "$$ \\bar{X}_f = 0.74, n_f = 314, SD_f = 0.44, SS_f = 0.19 $$\n",
    "\n",
    "$$ \\bar{X}_m = 0.19, n_m = 577, SD_m = 0.39, SS_m = 0.15$$"
   ]
  },
  {
   "cell_type": "markdown",
   "metadata": {},
   "source": [
    "自由度\n",
    "\n",
    "$$ df_f = n_f - 1 = 313, df_m = n_m -1 = 576 $$\n",
    "\n",
    "合并方差\n",
    "\n",
    "$$ S_{p}^{2} = \\frac{SS_f + SS_m}{df_f + df_m} = \\frac{0.19 + 0.15}{313 + 576}= 0.0003825 $$\n",
    "\n",
    "标准误差\n",
    "\n",
    "$$ SE = \\sqrt{\\frac{S_{p}^{2}}{n_f} + \\frac{S_{p}^{2}}{n_m}} = \\sqrt{\\frac{0.0003825}{314} + \\frac{0.0003825}{577}} = 0.0014 $$"
   ]
  },
  {
   "cell_type": "markdown",
   "metadata": {},
   "source": [
    "$$ t_{statistic} = \\frac{\\bar{X}_f- \\bar{X}_m}{SE} = 393 $$"
   ]
  },
  {
   "cell_type": "markdown",
   "metadata": {},
   "source": [
    "对于 $$\\alpha = 0.001 $$\n",
    "\n",
    "t临界值\n",
    "\n",
    "$$ t_{critical} = 3.098 $$\n",
    "\n",
    "由t统计量可知，应该拒绝零假设，女性生还率远高于男性生还率，(双尾) P < 0.0001 。"
   ]
  },
  {
   "cell_type": "markdown",
   "metadata": {},
   "source": [
    "### 4.2 阶层（舱位等级）和生还率的关系"
   ]
  },
  {
   "cell_type": "markdown",
   "metadata": {},
   "source": [
    "#### 4.2.1 描述统计量"
   ]
  },
  {
   "cell_type": "markdown",
   "metadata": {},
   "source": [
    "从原始数据集中提取舱位等级和生还人数，按照性别进行分组统计。"
   ]
  },
  {
   "cell_type": "code",
   "execution_count": 185,
   "metadata": {
    "collapsed": false
   },
   "outputs": [
    {
     "name": "stdout",
     "output_type": "stream",
     "text": [
      "****** Count ******\n",
      "        Survived\n",
      "Pclass          \n",
      "1            216\n",
      "2            184\n",
      "3            491\n",
      "****** Mean ******\n",
      "        Survived\n",
      "Pclass          \n",
      "1       0.629630\n",
      "2       0.472826\n",
      "3       0.242363\n",
      "****** Standard Deviation ******\n",
      "        Survived\n",
      "Pclass          \n",
      "1       0.484026\n",
      "2       0.500623\n",
      "3       0.428949\n",
      "****** Variance ******\n",
      "        Survived\n",
      "Pclass          \n",
      "1       0.234281\n",
      "2       0.250624\n",
      "3       0.183998\n"
     ]
    }
   ],
   "source": [
    "pclass_group = group_overview(df,'Pclass')"
   ]
  },
  {
   "cell_type": "markdown",
   "metadata": {},
   "source": [
    "样本891人\n",
    "+ 头等舱216人，生还率0.63，标准偏差0.48，方差0.23\n",
    "+ 二等舱184人，生还率0.47，标准偏差0.50，方差0.25\n",
    "+ 三等舱491人，生还率0.24，标准偏差0.43，方差0.18"
   ]
  },
  {
   "cell_type": "markdown",
   "metadata": {},
   "source": [
    "#### 4.2.2 推断统计量"
   ]
  },
  {
   "cell_type": "markdown",
   "metadata": {},
   "source": [
    "零假设：头等舱乘客生还率不高于二等舱乘客生还率\n",
    "\n",
    "$$ H_0: \\mu_1 \\leq \\mu_2 $$\n",
    "\n",
    "对立假设：头等舱乘客生还率高于二等舱乘客生还率\n",
    "\n",
    "$$ H_a: \\mu_1 > \\mu_2 $$\n",
    "\n",
    "独立样本t检验。根据假设，单尾检验，正方向。\n",
    "\n",
    "$$ \\alpha = 0.001 $$"
   ]
  },
  {
   "cell_type": "markdown",
   "metadata": {},
   "source": [
    "同 3.1.2 可得\n",
    "\n",
    "$$ SE = 0.0034 $$\n",
    "\n",
    "$$ t_{statistic} = 47 $$\n",
    "\n",
    "对 $$ \\alpha = 0.001, t_{critical} = 3.098 $$\n",
    "\n",
    "应拒绝零假设，倾向于接受头等舱乘客生还率高于二等舱乘客生还率，(双尾) P < 0.0001 。"
   ]
  },
  {
   "cell_type": "markdown",
   "metadata": {},
   "source": [
    "### 4.3 　年龄和生还率的关系"
   ]
  },
  {
   "cell_type": "markdown",
   "metadata": {},
   "source": [
    "+ 部分乘客的年龄数据缺失，需要清理(df.dropna())\n",
    "+ 清理后得到有年龄纪录的乘客714人\n",
    "+ 新的样本分布情况后可能与总体实际分布情况不同\n",
    "+ 新714人的统计量与原891人的统计量不同，例如：样本数量减少，统计的标准误差会增大。"
   ]
  },
  {
   "cell_type": "code",
   "execution_count": 186,
   "metadata": {
    "collapsed": true
   },
   "outputs": [],
   "source": [
    "age_and_survived_df = df[['Survived','Age']].dropna()"
   ]
  },
  {
   "cell_type": "markdown",
   "metadata": {},
   "source": [
    "乘客平均年龄（单位：岁，下同）为29.70，最小年龄为0.42，最大年龄为80。年龄的第一四分位数为20，中位数为28，第三四分位数为38。"
   ]
  },
  {
   "cell_type": "code",
   "execution_count": 187,
   "metadata": {
    "collapsed": false
   },
   "outputs": [
    {
     "data": {
      "text/html": [
       "<div>\n",
       "<table border=\"1\" class=\"dataframe\">\n",
       "  <thead>\n",
       "    <tr style=\"text-align: right;\">\n",
       "      <th></th>\n",
       "      <th>Survived</th>\n",
       "      <th>Age</th>\n",
       "    </tr>\n",
       "  </thead>\n",
       "  <tbody>\n",
       "    <tr>\n",
       "      <th>count</th>\n",
       "      <td>714.000000</td>\n",
       "      <td>714.000000</td>\n",
       "    </tr>\n",
       "    <tr>\n",
       "      <th>mean</th>\n",
       "      <td>0.406162</td>\n",
       "      <td>29.699118</td>\n",
       "    </tr>\n",
       "    <tr>\n",
       "      <th>std</th>\n",
       "      <td>0.491460</td>\n",
       "      <td>14.526497</td>\n",
       "    </tr>\n",
       "    <tr>\n",
       "      <th>min</th>\n",
       "      <td>0.000000</td>\n",
       "      <td>0.420000</td>\n",
       "    </tr>\n",
       "    <tr>\n",
       "      <th>25%</th>\n",
       "      <td>0.000000</td>\n",
       "      <td>20.125000</td>\n",
       "    </tr>\n",
       "    <tr>\n",
       "      <th>50%</th>\n",
       "      <td>0.000000</td>\n",
       "      <td>28.000000</td>\n",
       "    </tr>\n",
       "    <tr>\n",
       "      <th>75%</th>\n",
       "      <td>1.000000</td>\n",
       "      <td>38.000000</td>\n",
       "    </tr>\n",
       "    <tr>\n",
       "      <th>max</th>\n",
       "      <td>1.000000</td>\n",
       "      <td>80.000000</td>\n",
       "    </tr>\n",
       "  </tbody>\n",
       "</table>\n",
       "</div>"
      ],
      "text/plain": [
       "         Survived         Age\n",
       "count  714.000000  714.000000\n",
       "mean     0.406162   29.699118\n",
       "std      0.491460   14.526497\n",
       "min      0.000000    0.420000\n",
       "25%      0.000000   20.125000\n",
       "50%      0.000000   28.000000\n",
       "75%      1.000000   38.000000\n",
       "max      1.000000   80.000000"
      ]
     },
     "execution_count": 187,
     "metadata": {},
     "output_type": "execute_result"
    }
   ],
   "source": [
    "age_and_survived_df.describe()"
   ]
  },
  {
   "cell_type": "markdown",
   "metadata": {},
   "source": [
    "将乘客年龄按10年一段分组，新增一列称为“AgeGroups”"
   ]
  },
  {
   "cell_type": "code",
   "execution_count": 188,
   "metadata": {
    "collapsed": false
   },
   "outputs": [],
   "source": [
    "def age_group(age):\n",
    "    if age >=70:\n",
    "        return '7'\n",
    "    elif age >=60:\n",
    "        return '6'\n",
    "    elif age >=50:\n",
    "        return '5'\n",
    "    elif age >=40:\n",
    "        return '4'\n",
    "    elif age >=30:\n",
    "        return '3'\n",
    "    elif age >=20:\n",
    "        return '2'\n",
    "    elif age >=10:\n",
    "        return '1'\n",
    "    else:\n",
    "        return '0'    "
   ]
  },
  {
   "cell_type": "code",
   "execution_count": 189,
   "metadata": {
    "collapsed": false
   },
   "outputs": [],
   "source": [
    "age_and_survived_df['AgeGroups'] = age_and_survived_df['Age'].apply(age_group)"
   ]
  },
  {
   "cell_type": "code",
   "execution_count": 190,
   "metadata": {
    "collapsed": false
   },
   "outputs": [
    {
     "name": "stdout",
     "output_type": "stream",
     "text": [
      "****** Count ******\n",
      "           Survived\n",
      "AgeGroups          \n",
      "0                62\n",
      "1               102\n",
      "2               220\n",
      "3               167\n",
      "4                89\n",
      "5                48\n",
      "6                19\n",
      "7                 7\n",
      "****** Mean ******\n",
      "           Survived\n",
      "AgeGroups          \n",
      "0          0.612903\n",
      "1          0.401961\n",
      "2          0.350000\n",
      "3          0.437126\n",
      "4          0.382022\n",
      "5          0.416667\n",
      "6          0.315789\n",
      "7          0.142857\n",
      "****** Standard Deviation ******\n",
      "           Survived\n",
      "AgeGroups          \n",
      "0          0.491062\n",
      "1          0.492715\n",
      "2          0.478057\n",
      "3          0.497523\n",
      "4          0.488635\n",
      "5          0.498224\n",
      "6          0.477567\n",
      "7          0.377964\n",
      "****** Variance ******\n",
      "           Survived\n",
      "AgeGroups          \n",
      "0          0.241142\n",
      "1          0.242768\n",
      "2          0.228539\n",
      "3          0.247529\n",
      "4          0.238764\n",
      "5          0.248227\n",
      "6          0.228070\n",
      "7          0.142857\n"
     ]
    }
   ],
   "source": [
    "age_groups = group_overview(age_and_survived_df,'AgeGroups')"
   ]
  },
  {
   "cell_type": "markdown",
   "metadata": {},
   "source": [
    "+ 0: 0-10岁 62人，生还率0.61，标准偏差0.49， 方差0.24\n",
    "+ 1: 10-20岁 102人，生还率0.40，标准偏差0.49， 方差0.24\n",
    "+ 2: 20-30岁 220人，生还率0.35，标准偏差0.47， 方差0.23\n",
    "+ 3: 30-40岁 167人，生还率0.43，标准偏差0.50， 方差0.25\n",
    "+ 4: 40-50岁 89人，生还率0.38，标准偏差0.49， 方差0.23\n",
    "+ 5: 50-60岁 48人，生还率0.41，标准偏差0.50， 方差0.25\n",
    "+ 6: 60-70岁 19人，生还率0.31，标准偏差0.48， 方差0.23\n",
    "+ 7: 70-80岁 7人，生还率0.14，标准偏差0.38， 方差0.14"
   ]
  },
  {
   "cell_type": "markdown",
   "metadata": {},
   "source": [
    "生还率最高的是0-10岁的儿童，其次是30-40岁的壮年人，生还率最低的是70-80岁的老人。"
   ]
  },
  {
   "cell_type": "markdown",
   "metadata": {},
   "source": [
    "## 4.4 亲人数量和生还率的关系\n",
    "\n",
    "定义亲人数量 FamilyMembers = SibSp + Parch，新增一列称为“FamilyMembers”"
   ]
  },
  {
   "cell_type": "code",
   "execution_count": 191,
   "metadata": {
    "collapsed": false
   },
   "outputs": [],
   "source": [
    "family_members_and_survived_df = df[['Survived','SibSp','Parch']].dropna()"
   ]
  },
  {
   "cell_type": "code",
   "execution_count": 192,
   "metadata": {
    "collapsed": false
   },
   "outputs": [],
   "source": [
    "family_members_and_survived_df['FamilyMembers'] = family_members_and_survived_df['SibSp'] + family_members_and_survived_df['Parch']"
   ]
  },
  {
   "cell_type": "code",
   "execution_count": 193,
   "metadata": {
    "collapsed": false
   },
   "outputs": [
    {
     "name": "stdout",
     "output_type": "stream",
     "text": [
      "****** Count ******\n",
      "               Survived\n",
      "FamilyMembers          \n",
      "0                   537\n",
      "1                   161\n",
      "2                   102\n",
      "3                    29\n",
      "4                    15\n",
      "5                    22\n",
      "6                    12\n",
      "7                     6\n",
      "10                    7\n",
      "****** Mean ******\n",
      "               Survived\n",
      "FamilyMembers          \n",
      "0              0.303538\n",
      "1              0.552795\n",
      "2              0.578431\n",
      "3              0.724138\n",
      "4              0.200000\n",
      "5              0.136364\n",
      "6              0.333333\n",
      "7              0.000000\n",
      "10             0.000000\n",
      "****** Standard Deviation ******\n",
      "               Survived\n",
      "FamilyMembers          \n",
      "0              0.460214\n",
      "1              0.498756\n",
      "2              0.496249\n",
      "3              0.454859\n",
      "4              0.414039\n",
      "5              0.351250\n",
      "6              0.492366\n",
      "7              0.000000\n",
      "10             0.000000\n",
      "****** Variance ******\n",
      "               Survived\n",
      "FamilyMembers          \n",
      "0              0.211797\n",
      "1              0.248758\n",
      "2              0.246263\n",
      "3              0.206897\n",
      "4              0.171429\n",
      "5              0.123377\n",
      "6              0.242424\n",
      "7              0.000000\n",
      "10             0.000000\n"
     ]
    }
   ],
   "source": [
    "family_group = group_overview(family_members_and_survived_df,'FamilyMembers')"
   ]
  },
  {
   "cell_type": "markdown",
   "metadata": {},
   "source": [
    "+ 船上亲人数量（不包括自己）最少为0人，最多为10人。\n",
    "+ 单身登船的人数为537人，占全部891人的60.27%。这部分人的生还率为0.30\n",
    "+ 船上有29个人的家庭成员总数为4人(FamilyMembers = 3)，这些人的生还率最高，为0.72\n",
    "+ 船上亲人数量超过7个人的有13人，这些人无人生还。"
   ]
  },
  {
   "cell_type": "markdown",
   "metadata": {},
   "source": [
    "# 5. 结论"
   ]
  },
  {
   "cell_type": "markdown",
   "metadata": {},
   "source": [
    "### 5.1 单变量分析结论"
   ]
  },
  {
   "cell_type": "markdown",
   "metadata": {},
   "source": [
    "+ 乘客中男女人数比约为 2:1"
   ]
  },
  {
   "cell_type": "code",
   "execution_count": 194,
   "metadata": {
    "collapsed": false
   },
   "outputs": [
    {
     "data": {
      "text/plain": [
       "array([<matplotlib.axes._subplots.AxesSubplot object at 0x7f155d16c0d0>], dtype=object)"
      ]
     },
     "execution_count": 194,
     "metadata": {},
     "output_type": "execute_result"
    },
    {
     "data": {
      "image/png": "[encoded data removed]",
      "text/plain": [
       "<matplotlib.figure.Figure at 0x7f155dc034d0>"
      ]
     },
     "metadata": {},
     "output_type": "display_data"
    }
   ],
   "source": [
    "sex_feq.plot(kind='pie', subplots=True, figsize =(5,5))"
   ]
  },
  {
   "cell_type": "markdown",
   "metadata": {},
   "source": [
    "+ 头等舱、二等舱、三等舱的乘客人数比约为 1:1:2"
   ]
  },
  {
   "cell_type": "code",
   "execution_count": 195,
   "metadata": {
    "collapsed": false
   },
   "outputs": [
    {
     "data": {
      "text/plain": [
       "array([<matplotlib.axes._subplots.AxesSubplot object at 0x7f155d0733d0>], dtype=object)"
      ]
     },
     "execution_count": 195,
     "metadata": {},
     "output_type": "execute_result"
    },
    {
     "data": {
      "image/png": "[encoded data removed]",
      "text/plain": [
       "<matplotlib.figure.Figure at 0x7f155d00d0d0>"
      ]
     },
     "metadata": {},
     "output_type": "display_data"
    }
   ],
   "source": [
    "pclass_feq.plot(kind='pie', subplots=True, figsize =(5,5))"
   ]
  },
  {
   "cell_type": "markdown",
   "metadata": {},
   "source": [
    "### 5.2 多变量分析结论"
   ]
  },
  {
   "cell_type": "markdown",
   "metadata": {},
   "source": [
    "+ 女性乘客的生还率高于男性乘客"
   ]
  },
  {
   "cell_type": "code",
   "execution_count": 196,
   "metadata": {
    "collapsed": false
   },
   "outputs": [
    {
     "data": {
      "text/plain": [
       "<matplotlib.axes._subplots.AxesSubplot at 0x7f155cfeee50>"
      ]
     },
     "execution_count": 196,
     "metadata": {},
     "output_type": "execute_result"
    },
    {
     "data": {
      "image/png": "[encoded data removed]",
      "text/plain": [
       "<matplotlib.figure.Figure at 0x7f155cf97f50>"
      ]
     },
     "metadata": {},
     "output_type": "display_data"
    }
   ],
   "source": [
    "sex_group.mean().plot(kind='bar')"
   ]
  },
  {
   "cell_type": "markdown",
   "metadata": {},
   "source": [
    "+ 高等级舱位的生还率高于低等级舱位的生还率"
   ]
  },
  {
   "cell_type": "code",
   "execution_count": 197,
   "metadata": {
    "collapsed": false
   },
   "outputs": [
    {
     "data": {
      "text/plain": [
       "<matplotlib.axes._subplots.AxesSubplot at 0x7f155cec5e50>"
      ]
     },
     "execution_count": 197,
     "metadata": {},
     "output_type": "execute_result"
    },
    {
     "data": {
      "image/png": "[encoded data removed]",
      "text/plain": [
       "<matplotlib.figure.Figure at 0x7f155ce6b150>"
      ]
     },
     "metadata": {},
     "output_type": "display_data"
    }
   ],
   "source": [
    "pclass_group.mean().plot(kind='bar')"
   ]
  },
  {
   "cell_type": "markdown",
   "metadata": {},
   "source": [
    "+ 0-10岁儿童生还率高于其他人群生还率\n",
    "+ 70岁以上老人生还率低于其他人群生还率"
   ]
  },
  {
   "cell_type": "code",
   "execution_count": 198,
   "metadata": {
    "collapsed": false
   },
   "outputs": [
    {
     "data": {
      "text/plain": [
       "<matplotlib.axes._subplots.AxesSubplot at 0x7f155d04e850>"
      ]
     },
     "execution_count": 198,
     "metadata": {},
     "output_type": "execute_result"
    },
    {
     "data": {
      "image/png": "[encoded data removed]",
      "text/plain": [
       "<matplotlib.figure.Figure at 0x7f155cda3dd0>"
      ]
     },
     "metadata": {},
     "output_type": "display_data"
    }
   ],
   "source": [
    "age_groups.mean().plot(kind='bar')"
   ]
  },
  {
   "cell_type": "markdown",
   "metadata": {},
   "source": [
    "+ 船上亲人数量在1-3人的乘客生还率高于其他人群的生还率\n",
    "+ 船上亲人数量 >7人的乘客无人生还"
   ]
  },
  {
   "cell_type": "code",
   "execution_count": 199,
   "metadata": {
    "collapsed": false
   },
   "outputs": [
    {
     "data": {
      "text/plain": [
       "<matplotlib.axes._subplots.AxesSubplot at 0x7f155d0cf3d0>"
      ]
     },
     "execution_count": 199,
     "metadata": {},
     "output_type": "execute_result"
    },
    {
     "data": {
      "image/png": "[encoded data removed]",
      "text/plain": [
       "<matplotlib.figure.Figure at 0x7f155cca4490>"
      ]
     },
     "metadata": {},
     "output_type": "display_data"
    }
   ],
   "source": [
    "family_group.mean().plot(kind='bar')"
   ]
  },
  {
   "cell_type": "markdown",
   "metadata": {},
   "source": [
    "### 5.3 结论限制\n",
    "\n",
    "+ 样本量约为总体的三分之一，推断总体情况会带来偏差\n",
    "+ 部分数据缺失（例如年龄），清理后会导致统计标准误差增大\n",
    "+ 可能存在其他因素影响生还率，比如说：是否船员，客舱到救生艇的距离等。但没有统计数据。\n",
    "+ 性别和阶层等因素与生还率相关，但相关未必因果\n",
    "+ 本调查属于观察性研究，不是实验性研究"
   ]
  }
 ],
 "metadata": {
  "anaconda-cloud": {},
  "kernelspec": {
   "display_name": "Python [conda env:py2env]",
   "language": "python",
   "name": "conda-env-py2env-py"
  },
  "language_info": {
   "codemirror_mode": {
    "name": "ipython",
    "version": 2
   },
   "file_extension": ".py",
   "mimetype": "text/x-python",
   "name": "python",
   "nbconvert_exporter": "python",
   "pygments_lexer": "ipython2",
   "version": "2.7.13"
  }
 },
 "nbformat": 4,
 "nbformat_minor": 2
}
